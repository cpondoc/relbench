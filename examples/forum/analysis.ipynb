{
 "cells": [
  {
   "cell_type": "code",
   "execution_count": 1,
   "id": "96d7046e-9229-44a2-bdaf-b3af23c85309",
   "metadata": {},
   "outputs": [],
   "source": [
    "%load_ext autoreload\n",
    "%autoreload 2"
   ]
  },
  {
   "cell_type": "code",
   "execution_count": 2,
   "id": "a2af8fdf-fc56-44b8-a667-dc3a9ed396b5",
   "metadata": {},
   "outputs": [
    {
     "name": "stdout",
     "output_type": "stream",
     "text": [
      "saving table comments...\n"
     ]
    },
    {
     "name": "stderr",
     "output_type": "stream",
     "text": [
      "/dfs/user/kexinh/miniconda3/envs/rtb/lib/python3.10/site-packages/pyarrow/pandas_compat.py:373: FutureWarning: is_sparse is deprecated and will be removed in a future version. Check `isinstance(dtype, pd.SparseDtype)` instead.\n",
      "  if _pandas_api.is_sparse(col):\n"
     ]
    },
    {
     "name": "stdout",
     "output_type": "stream",
     "text": [
      "done in 0.38 seconds.\n",
      "saving table badges...\n",
      "done in 0.07 seconds.\n",
      "saving table postLinks...\n",
      "done in 0.03 seconds.\n",
      "saving table postHistory...\n",
      "done in 1.13 seconds.\n",
      "saving table votes...\n",
      "done in 0.08 seconds.\n",
      "saving table users...\n",
      "done in 0.11 seconds.\n",
      "saving table posts...\n",
      "done in 0.21 seconds.\n",
      "loading table ../../data/rtb-forum/processed/db/badges.parquet...\n",
      "done in 0.03 seconds.\n",
      "loading table ../../data/rtb-forum/processed/db/comments.parquet...\n",
      "done in 0.20 seconds.\n",
      "loading table ../../data/rtb-forum/processed/db/users.parquet...\n",
      "done in 0.05 seconds.\n",
      "loading table ../../data/rtb-forum/processed/db/postLinks.parquet...\n",
      "done in 0.01 seconds.\n",
      "loading table ../../data/rtb-forum/processed/db/votes.parquet...\n",
      "done in 0.00 seconds.\n",
      "loading table ../../data/rtb-forum/processed/db/posts.parquet...\n",
      "done in 0.11 seconds.\n",
      "loading table ../../data/rtb-forum/processed/db/postHistory.parquet...\n",
      "done in 0.78 seconds.\n"
     ]
    }
   ],
   "source": [
    "from rtb.datasets import get_dataset\n",
    "ds = get_dataset(name=\"rtb-forum\", root=\"../../data/\", process=True)"
   ]
  },
  {
   "cell_type": "code",
   "execution_count": 3,
   "id": "496642df-9a08-4768-9b3b-758300cef3ca",
   "metadata": {},
   "outputs": [
    {
     "name": "stdout",
     "output_type": "stream",
     "text": [
      "table badges , len:  79851\n",
      "table comments , len:  171470\n",
      "table users , len:  40325\n",
      "table postLinks , len:  11102\n",
      "table votes , len:  34789\n",
      "table posts , len:  15991\n",
      "table postHistory , len:  281859\n"
     ]
    }
   ],
   "source": [
    "for i,j in ds._db.tables.items():\n",
    "    print('table', i, ', len: ', str(len(j)))"
   ]
  },
  {
   "cell_type": "code",
   "execution_count": 5,
   "id": "839e6cee-dc19-4157-af17-bf682c07d60b",
   "metadata": {},
   "outputs": [
    {
     "data": {
      "text/plain": [
       "Timedelta('90 days 00:00:00')"
      ]
     },
     "execution_count": 5,
     "metadata": {},
     "output_type": "execute_result"
    }
   ],
   "source": [
    "task_name = \"user_posts_next_three_months\"\n",
    "window_size = ds.tasks_window_size[task_name]\n",
    "window_size"
   ]
  },
  {
   "cell_type": "code",
   "execution_count": 6,
   "id": "c3451ae9-05e3-4e0b-a9b3-76c503e73912",
   "metadata": {},
   "outputs": [],
   "source": [
    "train_table = ds.make_train_table(task_name, window_size)\n",
    "val_table = ds.make_val_table(task_name, window_size)\n",
    "test_table = ds.make_test_table(task_name, window_size)"
   ]
  },
  {
   "cell_type": "code",
   "execution_count": 7,
   "id": "480d7cbd-8e2f-45c2-8e06-29de29738b65",
   "metadata": {},
   "outputs": [
    {
     "data": {
      "text/html": [
       "<div>\n",
       "<style scoped>\n",
       "    .dataframe tbody tr th:only-of-type {\n",
       "        vertical-align: middle;\n",
       "    }\n",
       "\n",
       "    .dataframe tbody tr th {\n",
       "        vertical-align: top;\n",
       "    }\n",
       "\n",
       "    .dataframe thead th {\n",
       "        text-align: right;\n",
       "    }\n",
       "</style>\n",
       "<table border=\"1\" class=\"dataframe\">\n",
       "  <thead>\n",
       "    <tr style=\"text-align: right;\">\n",
       "      <th></th>\n",
       "      <th>window_min_time</th>\n",
       "      <th>window_max_time</th>\n",
       "      <th>OwnerUserId</th>\n",
       "      <th>num_posts</th>\n",
       "    </tr>\n",
       "  </thead>\n",
       "  <tbody>\n",
       "    <tr>\n",
       "      <th>0</th>\n",
       "      <td>2010-04-28 14:24:32</td>\n",
       "      <td>2010-07-27 14:24:32</td>\n",
       "      <td>11.0</td>\n",
       "      <td>5</td>\n",
       "    </tr>\n",
       "    <tr>\n",
       "      <th>1</th>\n",
       "      <td>2010-04-28 14:24:32</td>\n",
       "      <td>2010-07-27 14:24:32</td>\n",
       "      <td>21.0</td>\n",
       "      <td>1</td>\n",
       "    </tr>\n",
       "    <tr>\n",
       "      <th>2</th>\n",
       "      <td>2010-07-27 14:24:32</td>\n",
       "      <td>2010-10-25 14:24:32</td>\n",
       "      <td>44.0</td>\n",
       "      <td>4</td>\n",
       "    </tr>\n",
       "    <tr>\n",
       "      <th>3</th>\n",
       "      <td>2010-07-27 14:24:32</td>\n",
       "      <td>2010-10-25 14:24:32</td>\n",
       "      <td>32.0</td>\n",
       "      <td>5</td>\n",
       "    </tr>\n",
       "    <tr>\n",
       "      <th>4</th>\n",
       "      <td>2010-07-27 14:24:32</td>\n",
       "      <td>2010-10-25 14:24:32</td>\n",
       "      <td>236.0</td>\n",
       "      <td>4</td>\n",
       "    </tr>\n",
       "    <tr>\n",
       "      <th>...</th>\n",
       "      <td>...</td>\n",
       "      <td>...</td>\n",
       "      <td>...</td>\n",
       "      <td>...</td>\n",
       "    </tr>\n",
       "    <tr>\n",
       "      <th>2855</th>\n",
       "      <td>2013-04-12 14:24:32</td>\n",
       "      <td>2013-07-11 14:24:32</td>\n",
       "      <td>19776.0</td>\n",
       "      <td>1</td>\n",
       "    </tr>\n",
       "    <tr>\n",
       "      <th>2856</th>\n",
       "      <td>2013-04-12 14:24:32</td>\n",
       "      <td>2013-07-11 14:24:32</td>\n",
       "      <td>19795.0</td>\n",
       "      <td>1</td>\n",
       "    </tr>\n",
       "    <tr>\n",
       "      <th>2857</th>\n",
       "      <td>2013-04-12 14:24:32</td>\n",
       "      <td>2013-07-11 14:24:32</td>\n",
       "      <td>20030.0</td>\n",
       "      <td>1</td>\n",
       "    </tr>\n",
       "    <tr>\n",
       "      <th>2858</th>\n",
       "      <td>2013-04-12 14:24:32</td>\n",
       "      <td>2013-07-11 14:24:32</td>\n",
       "      <td>7078.0</td>\n",
       "      <td>1</td>\n",
       "    </tr>\n",
       "    <tr>\n",
       "      <th>2859</th>\n",
       "      <td>2013-04-12 14:24:32</td>\n",
       "      <td>2013-07-11 14:24:32</td>\n",
       "      <td>166.0</td>\n",
       "      <td>3</td>\n",
       "    </tr>\n",
       "  </tbody>\n",
       "</table>\n",
       "<p>2860 rows × 4 columns</p>\n",
       "</div>"
      ],
      "text/plain": [
       "         window_min_time     window_max_time  OwnerUserId  num_posts\n",
       "0    2010-04-28 14:24:32 2010-07-27 14:24:32         11.0          5\n",
       "1    2010-04-28 14:24:32 2010-07-27 14:24:32         21.0          1\n",
       "2    2010-07-27 14:24:32 2010-10-25 14:24:32         44.0          4\n",
       "3    2010-07-27 14:24:32 2010-10-25 14:24:32         32.0          5\n",
       "4    2010-07-27 14:24:32 2010-10-25 14:24:32        236.0          4\n",
       "...                  ...                 ...          ...        ...\n",
       "2855 2013-04-12 14:24:32 2013-07-11 14:24:32      19776.0          1\n",
       "2856 2013-04-12 14:24:32 2013-07-11 14:24:32      19795.0          1\n",
       "2857 2013-04-12 14:24:32 2013-07-11 14:24:32      20030.0          1\n",
       "2858 2013-04-12 14:24:32 2013-07-11 14:24:32       7078.0          1\n",
       "2859 2013-04-12 14:24:32 2013-07-11 14:24:32        166.0          3\n",
       "\n",
       "[2860 rows x 4 columns]"
      ]
     },
     "execution_count": 7,
     "metadata": {},
     "output_type": "execute_result"
    }
   ],
   "source": [
    "train_table.df"
   ]
  },
  {
   "cell_type": "code",
   "execution_count": 8,
   "id": "fe007ae5-1bab-43a4-81d2-75aa8c14f5f1",
   "metadata": {},
   "outputs": [
    {
     "data": {
      "text/plain": [
       "Timestamp('2013-09-14 00:00:00')"
      ]
     },
     "execution_count": 8,
     "metadata": {},
     "output_type": "execute_result"
    }
   ],
   "source": [
    "ds.train_max_time"
   ]
  },
  {
   "cell_type": "code",
   "execution_count": 9,
   "id": "1d5ebc4f-0350-4fa6-9bb7-e9195510e895",
   "metadata": {},
   "outputs": [
    {
     "data": {
      "text/plain": [
       "Timestamp('2013-07-11 14:24:32')"
      ]
     },
     "execution_count": 9,
     "metadata": {},
     "output_type": "execute_result"
    }
   ],
   "source": [
    "train_table.df.window_max_time.max()"
   ]
  },
  {
   "cell_type": "code",
   "execution_count": 10,
   "id": "5f7bebd0-1611-472d-ad32-b65a6d8df962",
   "metadata": {},
   "outputs": [
    {
     "data": {
      "text/plain": [
       "Timestamp('2009-02-02 14:24:32')"
      ]
     },
     "execution_count": 10,
     "metadata": {},
     "output_type": "execute_result"
    }
   ],
   "source": [
    "train_table.df.window_min_time.min()"
   ]
  },
  {
   "cell_type": "code",
   "execution_count": 11,
   "id": "09665962-cbe2-4b7f-b095-8ed1cdd25aaa",
   "metadata": {},
   "outputs": [
    {
     "data": {
      "text/html": [
       "<div>\n",
       "<style scoped>\n",
       "    .dataframe tbody tr th:only-of-type {\n",
       "        vertical-align: middle;\n",
       "    }\n",
       "\n",
       "    .dataframe tbody tr th {\n",
       "        vertical-align: top;\n",
       "    }\n",
       "\n",
       "    .dataframe thead th {\n",
       "        text-align: right;\n",
       "    }\n",
       "</style>\n",
       "<table border=\"1\" class=\"dataframe\">\n",
       "  <thead>\n",
       "    <tr style=\"text-align: right;\">\n",
       "      <th></th>\n",
       "      <th>window_min_time</th>\n",
       "      <th>window_max_time</th>\n",
       "      <th>OwnerUserId</th>\n",
       "      <th>num_posts</th>\n",
       "    </tr>\n",
       "  </thead>\n",
       "  <tbody>\n",
       "    <tr>\n",
       "      <th>0</th>\n",
       "      <td>2013-09-14 00:00:01</td>\n",
       "      <td>2013-12-13</td>\n",
       "      <td>5073.0</td>\n",
       "      <td>13</td>\n",
       "    </tr>\n",
       "    <tr>\n",
       "      <th>1</th>\n",
       "      <td>2013-09-14 00:00:01</td>\n",
       "      <td>2013-12-13</td>\n",
       "      <td>7537.0</td>\n",
       "      <td>4</td>\n",
       "    </tr>\n",
       "    <tr>\n",
       "      <th>2</th>\n",
       "      <td>2013-09-14 00:00:01</td>\n",
       "      <td>2013-12-13</td>\n",
       "      <td>662.0</td>\n",
       "      <td>27</td>\n",
       "    </tr>\n",
       "    <tr>\n",
       "      <th>3</th>\n",
       "      <td>2013-09-14 00:00:01</td>\n",
       "      <td>2013-12-13</td>\n",
       "      <td>588.0</td>\n",
       "      <td>124</td>\n",
       "    </tr>\n",
       "    <tr>\n",
       "      <th>4</th>\n",
       "      <td>2013-09-14 00:00:01</td>\n",
       "      <td>2013-12-13</td>\n",
       "      <td>7611.0</td>\n",
       "      <td>1</td>\n",
       "    </tr>\n",
       "    <tr>\n",
       "      <th>...</th>\n",
       "      <td>...</td>\n",
       "      <td>...</td>\n",
       "      <td>...</td>\n",
       "      <td>...</td>\n",
       "    </tr>\n",
       "    <tr>\n",
       "      <th>378</th>\n",
       "      <td>2013-09-14 00:00:01</td>\n",
       "      <td>2013-12-13</td>\n",
       "      <td>567.0</td>\n",
       "      <td>2</td>\n",
       "    </tr>\n",
       "    <tr>\n",
       "      <th>379</th>\n",
       "      <td>2013-09-14 00:00:01</td>\n",
       "      <td>2013-12-13</td>\n",
       "      <td>24557.0</td>\n",
       "      <td>1</td>\n",
       "    </tr>\n",
       "    <tr>\n",
       "      <th>380</th>\n",
       "      <td>2013-09-14 00:00:01</td>\n",
       "      <td>2013-12-13</td>\n",
       "      <td>22833.0</td>\n",
       "      <td>1</td>\n",
       "    </tr>\n",
       "    <tr>\n",
       "      <th>381</th>\n",
       "      <td>2013-09-14 00:00:01</td>\n",
       "      <td>2013-12-13</td>\n",
       "      <td>25181.0</td>\n",
       "      <td>1</td>\n",
       "    </tr>\n",
       "    <tr>\n",
       "      <th>382</th>\n",
       "      <td>2013-09-14 00:00:01</td>\n",
       "      <td>2013-12-13</td>\n",
       "      <td>17448.0</td>\n",
       "      <td>1</td>\n",
       "    </tr>\n",
       "  </tbody>\n",
       "</table>\n",
       "<p>383 rows × 4 columns</p>\n",
       "</div>"
      ],
      "text/plain": [
       "        window_min_time window_max_time  OwnerUserId  num_posts\n",
       "0   2013-09-14 00:00:01      2013-12-13       5073.0         13\n",
       "1   2013-09-14 00:00:01      2013-12-13       7537.0          4\n",
       "2   2013-09-14 00:00:01      2013-12-13        662.0         27\n",
       "3   2013-09-14 00:00:01      2013-12-13        588.0        124\n",
       "4   2013-09-14 00:00:01      2013-12-13       7611.0          1\n",
       "..                  ...             ...          ...        ...\n",
       "378 2013-09-14 00:00:01      2013-12-13        567.0          2\n",
       "379 2013-09-14 00:00:01      2013-12-13      24557.0          1\n",
       "380 2013-09-14 00:00:01      2013-12-13      22833.0          1\n",
       "381 2013-09-14 00:00:01      2013-12-13      25181.0          1\n",
       "382 2013-09-14 00:00:01      2013-12-13      17448.0          1\n",
       "\n",
       "[383 rows x 4 columns]"
      ]
     },
     "execution_count": 11,
     "metadata": {},
     "output_type": "execute_result"
    }
   ],
   "source": [
    "val_table.df"
   ]
  },
  {
   "cell_type": "code",
   "execution_count": 12,
   "id": "7dcee196-c546-432a-b85c-940bb6dd7fe2",
   "metadata": {},
   "outputs": [
    {
     "data": {
      "text/plain": [
       "Timestamp('2013-09-14 00:00:01')"
      ]
     },
     "execution_count": 12,
     "metadata": {},
     "output_type": "execute_result"
    }
   ],
   "source": [
    "val_table.df.window_min_time.min()"
   ]
  },
  {
   "cell_type": "code",
   "execution_count": 13,
   "id": "244c7011-6fe7-4594-95bc-a7e91da212c1",
   "metadata": {},
   "outputs": [
    {
     "data": {
      "text/plain": [
       "Timestamp('2013-12-13 00:00:00')"
      ]
     },
     "execution_count": 13,
     "metadata": {},
     "output_type": "execute_result"
    }
   ],
   "source": [
    "val_table.df.window_max_time.max()"
   ]
  },
  {
   "cell_type": "code",
   "execution_count": 14,
   "id": "7d1a67fe-1e71-4fdd-a42a-95cc49a9debf",
   "metadata": {},
   "outputs": [
    {
     "data": {
      "text/html": [
       "<div>\n",
       "<style scoped>\n",
       "    .dataframe tbody tr th:only-of-type {\n",
       "        vertical-align: middle;\n",
       "    }\n",
       "\n",
       "    .dataframe tbody tr th {\n",
       "        vertical-align: top;\n",
       "    }\n",
       "\n",
       "    .dataframe thead th {\n",
       "        text-align: right;\n",
       "    }\n",
       "</style>\n",
       "<table border=\"1\" class=\"dataframe\">\n",
       "  <thead>\n",
       "    <tr style=\"text-align: right;\">\n",
       "      <th></th>\n",
       "      <th>window_min_time</th>\n",
       "      <th>window_max_time</th>\n",
       "      <th>OwnerUserId</th>\n",
       "    </tr>\n",
       "  </thead>\n",
       "  <tbody>\n",
       "    <tr>\n",
       "      <th>0</th>\n",
       "      <td>2014-03-14 00:00:01</td>\n",
       "      <td>2014-06-12</td>\n",
       "      <td>5265.0</td>\n",
       "    </tr>\n",
       "    <tr>\n",
       "      <th>1</th>\n",
       "      <td>2014-03-14 00:00:01</td>\n",
       "      <td>2014-06-12</td>\n",
       "      <td>588.0</td>\n",
       "    </tr>\n",
       "    <tr>\n",
       "      <th>2</th>\n",
       "      <td>2014-03-14 00:00:01</td>\n",
       "      <td>2014-06-12</td>\n",
       "      <td>29510.0</td>\n",
       "    </tr>\n",
       "    <tr>\n",
       "      <th>3</th>\n",
       "      <td>2014-03-14 00:00:01</td>\n",
       "      <td>2014-06-12</td>\n",
       "      <td>7791.0</td>\n",
       "    </tr>\n",
       "    <tr>\n",
       "      <th>4</th>\n",
       "      <td>2014-03-14 00:00:01</td>\n",
       "      <td>2014-06-12</td>\n",
       "      <td>29766.0</td>\n",
       "    </tr>\n",
       "    <tr>\n",
       "      <th>...</th>\n",
       "      <td>...</td>\n",
       "      <td>...</td>\n",
       "      <td>...</td>\n",
       "    </tr>\n",
       "    <tr>\n",
       "      <th>447</th>\n",
       "      <td>2014-03-14 00:00:01</td>\n",
       "      <td>2014-06-12</td>\n",
       "      <td>702.0</td>\n",
       "    </tr>\n",
       "    <tr>\n",
       "      <th>448</th>\n",
       "      <td>2014-03-14 00:00:01</td>\n",
       "      <td>2014-06-12</td>\n",
       "      <td>11878.0</td>\n",
       "    </tr>\n",
       "    <tr>\n",
       "      <th>449</th>\n",
       "      <td>2014-03-14 00:00:01</td>\n",
       "      <td>2014-06-12</td>\n",
       "      <td>10776.0</td>\n",
       "    </tr>\n",
       "    <tr>\n",
       "      <th>450</th>\n",
       "      <td>2014-03-14 00:00:01</td>\n",
       "      <td>2014-06-12</td>\n",
       "      <td>3524.0</td>\n",
       "    </tr>\n",
       "    <tr>\n",
       "      <th>451</th>\n",
       "      <td>2014-03-14 00:00:01</td>\n",
       "      <td>2014-06-12</td>\n",
       "      <td>12396.0</td>\n",
       "    </tr>\n",
       "  </tbody>\n",
       "</table>\n",
       "<p>452 rows × 3 columns</p>\n",
       "</div>"
      ],
      "text/plain": [
       "        window_min_time window_max_time  OwnerUserId\n",
       "0   2014-03-14 00:00:01      2014-06-12       5265.0\n",
       "1   2014-03-14 00:00:01      2014-06-12        588.0\n",
       "2   2014-03-14 00:00:01      2014-06-12      29510.0\n",
       "3   2014-03-14 00:00:01      2014-06-12       7791.0\n",
       "4   2014-03-14 00:00:01      2014-06-12      29766.0\n",
       "..                  ...             ...          ...\n",
       "447 2014-03-14 00:00:01      2014-06-12        702.0\n",
       "448 2014-03-14 00:00:01      2014-06-12      11878.0\n",
       "449 2014-03-14 00:00:01      2014-06-12      10776.0\n",
       "450 2014-03-14 00:00:01      2014-06-12       3524.0\n",
       "451 2014-03-14 00:00:01      2014-06-12      12396.0\n",
       "\n",
       "[452 rows x 3 columns]"
      ]
     },
     "execution_count": 14,
     "metadata": {},
     "output_type": "execute_result"
    }
   ],
   "source": [
    "test_table.df"
   ]
  },
  {
   "cell_type": "code",
   "execution_count": 15,
   "id": "c0b47ef3-bba5-4024-88ff-899c0df8fef0",
   "metadata": {},
   "outputs": [
    {
     "data": {
      "text/plain": [
       "Timestamp('2014-03-14 00:00:01')"
      ]
     },
     "execution_count": 15,
     "metadata": {},
     "output_type": "execute_result"
    }
   ],
   "source": [
    "test_table.df.window_min_time.min()"
   ]
  },
  {
   "cell_type": "code",
   "execution_count": 16,
   "id": "2ed2a32f-3a43-4374-b915-873b45ca241e",
   "metadata": {},
   "outputs": [
    {
     "data": {
      "text/plain": [
       "Timestamp('2014-06-12 00:00:00')"
      ]
     },
     "execution_count": 16,
     "metadata": {},
     "output_type": "execute_result"
    }
   ],
   "source": [
    "test_table.df.window_max_time.max()"
   ]
  },
  {
   "cell_type": "code",
   "execution_count": 18,
   "id": "d6641480-4c07-426a-8789-7aac210c317f",
   "metadata": {},
   "outputs": [
    {
     "data": {
      "text/plain": [
       "<seaborn.axisgrid.FacetGrid at 0x7f41a9eb67a0>"
      ]
     },
     "execution_count": 18,
     "metadata": {},
     "output_type": "execute_result"
    },
    {
     "data": {
      "image/png": "[encoded data removed]",
      "text/plain": [
       "<Figure size 500x500 with 1 Axes>"
      ]
     },
     "metadata": {},
     "output_type": "display_data"
    }
   ],
   "source": [
    "import seaborn as sns\n",
    "sns.displot(val_table.df.num_posts.values)\n",
    "## very skewed "
   ]
  },
  {
   "cell_type": "code",
   "execution_count": 19,
   "id": "e83c632a-39f0-41fb-9a56-793deb41517b",
   "metadata": {},
   "outputs": [
    {
     "data": {
      "text/plain": [
       "Timedelta('180 days 00:00:00')"
      ]
     },
     "execution_count": 19,
     "metadata": {},
     "output_type": "execute_result"
    }
   ],
   "source": [
    "task_name = \"comment_scores_next_six_months\"\n",
    "window_size = ds.tasks_window_size[task_name]\n",
    "window_size"
   ]
  },
  {
   "cell_type": "code",
   "execution_count": 20,
   "id": "fb6a44a9-b1c6-4bba-9db0-1cd7e48e4019",
   "metadata": {},
   "outputs": [],
   "source": [
    "train_table = ds.make_train_table(task_name, window_size)\n",
    "val_table = ds.make_val_table(task_name, window_size)\n",
    "test_table = ds.make_test_table(task_name, window_size)"
   ]
  },
  {
   "cell_type": "code",
   "execution_count": 21,
   "id": "9d773aaf-8621-4c37-b333-fe50d037122d",
   "metadata": {},
   "outputs": [
    {
     "data": {
      "text/html": [
       "<div>\n",
       "<style scoped>\n",
       "    .dataframe tbody tr th:only-of-type {\n",
       "        vertical-align: middle;\n",
       "    }\n",
       "\n",
       "    .dataframe tbody tr th {\n",
       "        vertical-align: top;\n",
       "    }\n",
       "\n",
       "    .dataframe thead th {\n",
       "        text-align: right;\n",
       "    }\n",
       "</style>\n",
       "<table border=\"1\" class=\"dataframe\">\n",
       "  <thead>\n",
       "    <tr style=\"text-align: right;\">\n",
       "      <th></th>\n",
       "      <th>window_min_time</th>\n",
       "      <th>window_max_time</th>\n",
       "      <th>UserId</th>\n",
       "      <th>comment_scores</th>\n",
       "    </tr>\n",
       "  </thead>\n",
       "  <tbody>\n",
       "    <tr>\n",
       "      <th>0</th>\n",
       "      <td>2009-02-02 14:24:32</td>\n",
       "      <td>2009-08-01 14:24:32</td>\n",
       "      <td>3315.0</td>\n",
       "      <td>0.0</td>\n",
       "    </tr>\n",
       "    <tr>\n",
       "      <th>1</th>\n",
       "      <td>2010-01-28 14:24:32</td>\n",
       "      <td>2010-07-27 14:24:32</td>\n",
       "      <td>891.0</td>\n",
       "      <td>0.0</td>\n",
       "    </tr>\n",
       "    <tr>\n",
       "      <th>2</th>\n",
       "      <td>2010-01-28 14:24:32</td>\n",
       "      <td>2010-07-27 14:24:32</td>\n",
       "      <td>30.0</td>\n",
       "      <td>11.0</td>\n",
       "    </tr>\n",
       "    <tr>\n",
       "      <th>3</th>\n",
       "      <td>2010-01-28 14:24:32</td>\n",
       "      <td>2010-07-27 14:24:32</td>\n",
       "      <td>63.0</td>\n",
       "      <td>0.0</td>\n",
       "    </tr>\n",
       "    <tr>\n",
       "      <th>4</th>\n",
       "      <td>2010-01-28 14:24:32</td>\n",
       "      <td>2010-07-27 14:24:32</td>\n",
       "      <td>37.0</td>\n",
       "      <td>4.0</td>\n",
       "    </tr>\n",
       "    <tr>\n",
       "      <th>...</th>\n",
       "      <td>...</td>\n",
       "      <td>...</td>\n",
       "      <td>...</td>\n",
       "      <td>...</td>\n",
       "    </tr>\n",
       "    <tr>\n",
       "      <th>10256</th>\n",
       "      <td>2013-01-12 14:24:32</td>\n",
       "      <td>2013-07-11 14:24:32</td>\n",
       "      <td>1687.0</td>\n",
       "      <td>1.0</td>\n",
       "    </tr>\n",
       "    <tr>\n",
       "      <th>10257</th>\n",
       "      <td>2013-01-12 14:24:32</td>\n",
       "      <td>2013-07-11 14:24:32</td>\n",
       "      <td>5843.0</td>\n",
       "      <td>1.0</td>\n",
       "    </tr>\n",
       "    <tr>\n",
       "      <th>10258</th>\n",
       "      <td>2013-01-12 14:24:32</td>\n",
       "      <td>2013-07-11 14:24:32</td>\n",
       "      <td>20011.0</td>\n",
       "      <td>0.0</td>\n",
       "    </tr>\n",
       "    <tr>\n",
       "      <th>10259</th>\n",
       "      <td>2013-01-12 14:24:32</td>\n",
       "      <td>2013-07-11 14:24:32</td>\n",
       "      <td>16312.0</td>\n",
       "      <td>0.0</td>\n",
       "    </tr>\n",
       "    <tr>\n",
       "      <th>10260</th>\n",
       "      <td>2013-01-12 14:24:32</td>\n",
       "      <td>2013-07-11 14:24:32</td>\n",
       "      <td>20027.0</td>\n",
       "      <td>0.0</td>\n",
       "    </tr>\n",
       "  </tbody>\n",
       "</table>\n",
       "<p>10261 rows × 4 columns</p>\n",
       "</div>"
      ],
      "text/plain": [
       "          window_min_time     window_max_time   UserId  comment_scores\n",
       "0     2009-02-02 14:24:32 2009-08-01 14:24:32   3315.0             0.0\n",
       "1     2010-01-28 14:24:32 2010-07-27 14:24:32    891.0             0.0\n",
       "2     2010-01-28 14:24:32 2010-07-27 14:24:32     30.0            11.0\n",
       "3     2010-01-28 14:24:32 2010-07-27 14:24:32     63.0             0.0\n",
       "4     2010-01-28 14:24:32 2010-07-27 14:24:32     37.0             4.0\n",
       "...                   ...                 ...      ...             ...\n",
       "10256 2013-01-12 14:24:32 2013-07-11 14:24:32   1687.0             1.0\n",
       "10257 2013-01-12 14:24:32 2013-07-11 14:24:32   5843.0             1.0\n",
       "10258 2013-01-12 14:24:32 2013-07-11 14:24:32  20011.0             0.0\n",
       "10259 2013-01-12 14:24:32 2013-07-11 14:24:32  16312.0             0.0\n",
       "10260 2013-01-12 14:24:32 2013-07-11 14:24:32  20027.0             0.0\n",
       "\n",
       "[10261 rows x 4 columns]"
      ]
     },
     "execution_count": 21,
     "metadata": {},
     "output_type": "execute_result"
    }
   ],
   "source": [
    "train_table.df"
   ]
  },
  {
   "cell_type": "code",
   "execution_count": 24,
   "id": "531b3451-2eb1-4a72-b1d0-f4b870df1657",
   "metadata": {},
   "outputs": [
    {
     "name": "stderr",
     "output_type": "stream",
     "text": [
      "/tmp/ipykernel_127302/4026762110.py:1: UserWarning: \n",
      "\n",
      "`distplot` is a deprecated function and will be removed in seaborn v0.14.0.\n",
      "\n",
      "Please adapt your code to use either `displot` (a figure-level function with\n",
      "similar flexibility) or `histplot` (an axes-level function for histograms).\n",
      "\n",
      "For a guide to updating your code to use the new functions, please see\n",
      "https://gist.github.com/mwaskom/de44147ed2974457ad6372750bbe5751\n",
      "\n",
      "  sns.distplot(val_table.df.comment_scores.values)\n"
     ]
    },
    {
     "data": {
      "text/plain": [
       "<Axes: ylabel='Density'>"
      ]
     },
     "execution_count": 24,
     "metadata": {},
     "output_type": "execute_result"
    },
    {
     "data": {
      "image/png": "[encoded data removed]",
      "text/plain": [
       "<Figure size 640x480 with 1 Axes>"
      ]
     },
     "metadata": {},
     "output_type": "display_data"
    }
   ],
   "source": [
    "sns.distplot(val_table.df.comment_scores.values)"
   ]
  },
  {
   "cell_type": "code",
   "execution_count": null,
   "id": "1b22dfc1-17e5-4d95-a3c9-eb42a231bb60",
   "metadata": {},
   "outputs": [],
   "source": []
  },
  {
   "cell_type": "code",
   "execution_count": null,
   "id": "600acdf4-b10b-41e9-bf7a-29f4ca7a5281",
   "metadata": {},
   "outputs": [],
   "source": []
  }
 ],
 "metadata": {
  "kernelspec": {
   "display_name": "Python 3 (ipykernel)",
   "language": "python",
   "name": "python3"
  },
  "language_info": {
   "codemirror_mode": {
    "name": "ipython",
    "version": 3
   },
   "file_extension": ".py",
   "mimetype": "text/x-python",
   "name": "python",
   "nbconvert_exporter": "python",
   "pygments_lexer": "ipython3",
   "version": "3.10.13"
  }
 },
 "nbformat": 4,
 "nbformat_minor": 5
}
