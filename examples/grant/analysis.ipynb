{
 "cells": [
  {
   "cell_type": "code",
   "execution_count": 1,
   "id": "96d7046e-9229-44a2-bdaf-b3af23c85309",
   "metadata": {},
   "outputs": [],
   "source": [
    "%load_ext autoreload\n",
    "%autoreload 2"
   ]
  },
  {
   "cell_type": "code",
   "execution_count": 2,
   "id": "a2af8fdf-fc56-44b8-a667-dc3a9ed396b5",
   "metadata": {},
   "outputs": [
    {
     "name": "stdout",
     "output_type": "stream",
     "text": [
      "saving table foa_info_awards...\n",
      "done in 0.09 seconds.\n",
      "saving table foa_info...\n",
      "done in 0.05 seconds.\n",
      "saving table institution_awards...\n"
     ]
    },
    {
     "name": "stderr",
     "output_type": "stream",
     "text": [
      "/dfs/user/kexinh/miniconda3/envs/rtb/lib/python3.10/site-packages/pyarrow/pandas_compat.py:373: FutureWarning: is_sparse is deprecated and will be removed in a future version. Check `isinstance(dtype, pd.SparseDtype)` instead.\n",
      "  if _pandas_api.is_sparse(col):\n"
     ]
    },
    {
     "name": "stdout",
     "output_type": "stream",
     "text": [
      "done in 0.11 seconds.\n",
      "saving table institution...\n",
      "done in 0.05 seconds.\n",
      "saving table investigator_awards...\n",
      "done in 0.20 seconds.\n",
      "saving table awards...\n",
      "done in 3.41 seconds.\n",
      "saving table organization...\n",
      "done in 0.05 seconds.\n",
      "saving table investigator...\n",
      "done in 0.14 seconds.\n",
      "saving table program_element...\n",
      "done in 0.04 seconds.\n",
      "saving table program_reference...\n",
      "done in 0.02 seconds.\n",
      "saving table program_element_awards...\n",
      "done in 0.07 seconds.\n",
      "saving table program_reference_awards...\n",
      "done in 0.10 seconds.\n",
      "loading table ../../data/rtb-grant/processed/db/program_reference.parquet...\n",
      "done in 0.01 seconds.\n",
      "loading table ../../data/rtb-grant/processed/db/institution_awards.parquet...\n",
      "done in 0.04 seconds.\n",
      "loading table ../../data/rtb-grant/processed/db/investigator.parquet...\n",
      "done in 0.08 seconds.\n",
      "loading table ../../data/rtb-grant/processed/db/organization.parquet...\n",
      "done in 0.00 seconds.\n",
      "loading table ../../data/rtb-grant/processed/db/program_element.parquet...\n",
      "done in 0.00 seconds.\n",
      "loading table ../../data/rtb-grant/processed/db/awards.parquet...\n",
      "done in 2.20 seconds.\n",
      "loading table ../../data/rtb-grant/processed/db/foa_info_awards.parquet...\n",
      "done in 0.02 seconds.\n",
      "loading table ../../data/rtb-grant/processed/db/institution.parquet...\n",
      "done in 0.02 seconds.\n",
      "loading table ../../data/rtb-grant/processed/db/program_element_awards.parquet...\n",
      "done in 0.01 seconds.\n",
      "loading table ../../data/rtb-grant/processed/db/investigator_awards.parquet...\n",
      "done in 0.06 seconds.\n",
      "loading table ../../data/rtb-grant/processed/db/foa_info.parquet...\n",
      "done in 0.00 seconds.\n",
      "loading table ../../data/rtb-grant/processed/db/program_reference_awards.parquet...\n",
      "done in 0.02 seconds.\n"
     ]
    }
   ],
   "source": [
    "from rtb.datasets import get_dataset\n",
    "ds = get_dataset(name=\"rtb-grant\", root=\"../../data/\", process=True)"
   ]
  },
  {
   "cell_type": "code",
   "execution_count": 19,
   "id": "496642df-9a08-4768-9b3b-758300cef3ca",
   "metadata": {},
   "outputs": [
    {
     "name": "stdout",
     "output_type": "stream",
     "text": [
      "table program_reference , len:  2025\n",
      "table institution_awards , len:  402725\n",
      "table investigator , len:  150196\n",
      "table organization , len:  475\n",
      "table program_element , len:  12689\n",
      "table awards , len:  415838\n",
      "table foa_info_awards , len:  395337\n",
      "table institution , len:  16691\n",
      "table program_element_awards , len:  346917\n",
      "table investigator_awards , len:  619898\n",
      "table foa_info , len:  200\n",
      "table program_reference_awards , len:  552484\n"
     ]
    }
   ],
   "source": [
    "for i,j in ds._db.tables.items():\n",
    "    print('table', i, ', len: ', str(len(j)))"
   ]
  },
  {
   "cell_type": "code",
   "execution_count": 32,
   "id": "839e6cee-dc19-4157-af17-bf682c07d60b",
   "metadata": {},
   "outputs": [
    {
     "data": {
      "text/plain": [
       "Timedelta('365 days 06:00:00')"
      ]
     },
     "execution_count": 32,
     "metadata": {},
     "output_type": "execute_result"
    }
   ],
   "source": [
    "task_name = \"institution_one_year\"\n",
    "window_size = ds.tasks_window_size[task_name]\n",
    "window_size"
   ]
  },
  {
   "cell_type": "code",
   "execution_count": 33,
   "id": "c3451ae9-05e3-4e0b-a9b3-76c503e73912",
   "metadata": {},
   "outputs": [],
   "source": [
    "train_table = ds.make_train_table(task_name, window_size)\n",
    "val_table = ds.make_val_table(task_name, window_size)\n",
    "test_table = ds.make_test_table(task_name, window_size)"
   ]
  },
  {
   "cell_type": "code",
   "execution_count": 8,
   "id": "480d7cbd-8e2f-45c2-8e06-29de29738b65",
   "metadata": {},
   "outputs": [
    {
     "data": {
      "text/html": [
       "<div>\n",
       "<style scoped>\n",
       "    .dataframe tbody tr th:only-of-type {\n",
       "        vertical-align: middle;\n",
       "    }\n",
       "\n",
       "    .dataframe tbody tr th {\n",
       "        vertical-align: top;\n",
       "    }\n",
       "\n",
       "    .dataframe thead th {\n",
       "        text-align: right;\n",
       "    }\n",
       "</style>\n",
       "<table border=\"1\" class=\"dataframe\">\n",
       "  <thead>\n",
       "    <tr style=\"text-align: right;\">\n",
       "      <th></th>\n",
       "      <th>window_min_time</th>\n",
       "      <th>window_max_time</th>\n",
       "      <th>name</th>\n",
       "      <th>award_sum</th>\n",
       "    </tr>\n",
       "  </thead>\n",
       "  <tbody>\n",
       "    <tr>\n",
       "      <th>0</th>\n",
       "      <td>2009-01-04 06:00:01</td>\n",
       "      <td>2010-01-04 12:00:01</td>\n",
       "      <td>15171.0</td>\n",
       "      <td>65151583.0</td>\n",
       "    </tr>\n",
       "    <tr>\n",
       "      <th>1</th>\n",
       "      <td>2009-01-04 06:00:01</td>\n",
       "      <td>2010-01-04 12:00:01</td>\n",
       "      <td>15322.0</td>\n",
       "      <td>18005480.0</td>\n",
       "    </tr>\n",
       "    <tr>\n",
       "      <th>2</th>\n",
       "      <td>2009-01-04 06:00:01</td>\n",
       "      <td>2010-01-04 12:00:01</td>\n",
       "      <td>15668.0</td>\n",
       "      <td>55909715.0</td>\n",
       "    </tr>\n",
       "    <tr>\n",
       "      <th>3</th>\n",
       "      <td>2009-01-04 06:00:01</td>\n",
       "      <td>2010-01-04 12:00:01</td>\n",
       "      <td>10834.0</td>\n",
       "      <td>8569661.0</td>\n",
       "    </tr>\n",
       "    <tr>\n",
       "      <th>4</th>\n",
       "      <td>2009-01-04 06:00:01</td>\n",
       "      <td>2010-01-04 12:00:01</td>\n",
       "      <td>15177.0</td>\n",
       "      <td>42405557.0</td>\n",
       "    </tr>\n",
       "    <tr>\n",
       "      <th>...</th>\n",
       "      <td>...</td>\n",
       "      <td>...</td>\n",
       "      <td>...</td>\n",
       "      <td>...</td>\n",
       "    </tr>\n",
       "    <tr>\n",
       "      <th>45248</th>\n",
       "      <td>2000-01-05 00:00:01</td>\n",
       "      <td>2001-01-04 06:00:01</td>\n",
       "      <td>2560.0</td>\n",
       "      <td>43657.0</td>\n",
       "    </tr>\n",
       "    <tr>\n",
       "      <th>45249</th>\n",
       "      <td>2000-01-05 00:00:01</td>\n",
       "      <td>2001-01-04 06:00:01</td>\n",
       "      <td>16172.0</td>\n",
       "      <td>29980.0</td>\n",
       "    </tr>\n",
       "    <tr>\n",
       "      <th>45250</th>\n",
       "      <td>2000-01-05 00:00:01</td>\n",
       "      <td>2001-01-04 06:00:01</td>\n",
       "      <td>14892.0</td>\n",
       "      <td>2734.0</td>\n",
       "    </tr>\n",
       "    <tr>\n",
       "      <th>45251</th>\n",
       "      <td>1999-01-04 18:00:01</td>\n",
       "      <td>2000-01-05 00:00:01</td>\n",
       "      <td>701.0</td>\n",
       "      <td>100000.0</td>\n",
       "    </tr>\n",
       "    <tr>\n",
       "      <th>45252</th>\n",
       "      <td>1999-01-04 18:00:01</td>\n",
       "      <td>2000-01-05 00:00:01</td>\n",
       "      <td>15084.0</td>\n",
       "      <td>199834.0</td>\n",
       "    </tr>\n",
       "  </tbody>\n",
       "</table>\n",
       "<p>45253 rows × 4 columns</p>\n",
       "</div>"
      ],
      "text/plain": [
       "          window_min_time     window_max_time     name   award_sum\n",
       "0     2009-01-04 06:00:01 2010-01-04 12:00:01  15171.0  65151583.0\n",
       "1     2009-01-04 06:00:01 2010-01-04 12:00:01  15322.0  18005480.0\n",
       "2     2009-01-04 06:00:01 2010-01-04 12:00:01  15668.0  55909715.0\n",
       "3     2009-01-04 06:00:01 2010-01-04 12:00:01  10834.0   8569661.0\n",
       "4     2009-01-04 06:00:01 2010-01-04 12:00:01  15177.0  42405557.0\n",
       "...                   ...                 ...      ...         ...\n",
       "45248 2000-01-05 00:00:01 2001-01-04 06:00:01   2560.0     43657.0\n",
       "45249 2000-01-05 00:00:01 2001-01-04 06:00:01  16172.0     29980.0\n",
       "45250 2000-01-05 00:00:01 2001-01-04 06:00:01  14892.0      2734.0\n",
       "45251 1999-01-04 18:00:01 2000-01-05 00:00:01    701.0    100000.0\n",
       "45252 1999-01-04 18:00:01 2000-01-05 00:00:01  15084.0    199834.0\n",
       "\n",
       "[45253 rows x 4 columns]"
      ]
     },
     "execution_count": 8,
     "metadata": {},
     "output_type": "execute_result"
    }
   ],
   "source": [
    "train_table.df"
   ]
  },
  {
   "cell_type": "code",
   "execution_count": 36,
   "id": "fe007ae5-1bab-43a4-81d2-75aa8c14f5f1",
   "metadata": {},
   "outputs": [
    {
     "data": {
      "text/plain": [
       "Timestamp('2010-12-31 00:00:00')"
      ]
     },
     "execution_count": 36,
     "metadata": {},
     "output_type": "execute_result"
    }
   ],
   "source": [
    "ds.train_max_time"
   ]
  },
  {
   "cell_type": "code",
   "execution_count": 35,
   "id": "1d5ebc4f-0350-4fa6-9bb7-e9195510e895",
   "metadata": {},
   "outputs": [
    {
     "data": {
      "text/plain": [
       "Timestamp('2010-01-04 12:00:01')"
      ]
     },
     "execution_count": 35,
     "metadata": {},
     "output_type": "execute_result"
    }
   ],
   "source": [
    "train_table.df.window_max_time.max()"
   ]
  },
  {
   "cell_type": "code",
   "execution_count": 37,
   "id": "5f7bebd0-1611-472d-ad32-b65a6d8df962",
   "metadata": {},
   "outputs": [
    {
     "data": {
      "text/plain": [
       "Timestamp('1976-01-05 00:00:01')"
      ]
     },
     "execution_count": 37,
     "metadata": {},
     "output_type": "execute_result"
    }
   ],
   "source": [
    "train_table.df.window_min_time.min()"
   ]
  },
  {
   "cell_type": "code",
   "execution_count": 9,
   "id": "09665962-cbe2-4b7f-b095-8ed1cdd25aaa",
   "metadata": {},
   "outputs": [
    {
     "data": {
      "text/html": [
       "<div>\n",
       "<style scoped>\n",
       "    .dataframe tbody tr th:only-of-type {\n",
       "        vertical-align: middle;\n",
       "    }\n",
       "\n",
       "    .dataframe tbody tr th {\n",
       "        vertical-align: top;\n",
       "    }\n",
       "\n",
       "    .dataframe thead th {\n",
       "        text-align: right;\n",
       "    }\n",
       "</style>\n",
       "<table border=\"1\" class=\"dataframe\">\n",
       "  <thead>\n",
       "    <tr style=\"text-align: right;\">\n",
       "      <th></th>\n",
       "      <th>window_min_time</th>\n",
       "      <th>window_max_time</th>\n",
       "      <th>name</th>\n",
       "      <th>award_sum</th>\n",
       "    </tr>\n",
       "  </thead>\n",
       "  <tbody>\n",
       "    <tr>\n",
       "      <th>0</th>\n",
       "      <td>2010-12-31 00:00:01</td>\n",
       "      <td>2011-12-31 06:00:00</td>\n",
       "      <td>10150.0</td>\n",
       "      <td>14420242.0</td>\n",
       "    </tr>\n",
       "    <tr>\n",
       "      <th>1</th>\n",
       "      <td>2010-12-31 00:00:01</td>\n",
       "      <td>2011-12-31 06:00:00</td>\n",
       "      <td>8661.0</td>\n",
       "      <td>1.0</td>\n",
       "    </tr>\n",
       "    <tr>\n",
       "      <th>2</th>\n",
       "      <td>2010-12-31 00:00:01</td>\n",
       "      <td>2011-12-31 06:00:00</td>\n",
       "      <td>14997.0</td>\n",
       "      <td>7368981.0</td>\n",
       "    </tr>\n",
       "    <tr>\n",
       "      <th>3</th>\n",
       "      <td>2010-12-31 00:00:01</td>\n",
       "      <td>2011-12-31 06:00:00</td>\n",
       "      <td>10610.0</td>\n",
       "      <td>2974212.0</td>\n",
       "    </tr>\n",
       "    <tr>\n",
       "      <th>4</th>\n",
       "      <td>2010-12-31 00:00:01</td>\n",
       "      <td>2011-12-31 06:00:00</td>\n",
       "      <td>3593.0</td>\n",
       "      <td>1914913.0</td>\n",
       "    </tr>\n",
       "    <tr>\n",
       "      <th>...</th>\n",
       "      <td>...</td>\n",
       "      <td>...</td>\n",
       "      <td>...</td>\n",
       "      <td>...</td>\n",
       "    </tr>\n",
       "    <tr>\n",
       "      <th>1663</th>\n",
       "      <td>2010-12-31 00:00:01</td>\n",
       "      <td>2011-12-31 06:00:00</td>\n",
       "      <td>5872.0</td>\n",
       "      <td>144000.0</td>\n",
       "    </tr>\n",
       "    <tr>\n",
       "      <th>1664</th>\n",
       "      <td>2010-12-31 00:00:01</td>\n",
       "      <td>2011-12-31 06:00:00</td>\n",
       "      <td>3867.0</td>\n",
       "      <td>44444.0</td>\n",
       "    </tr>\n",
       "    <tr>\n",
       "      <th>1665</th>\n",
       "      <td>2010-12-31 00:00:01</td>\n",
       "      <td>2011-12-31 06:00:00</td>\n",
       "      <td>15533.0</td>\n",
       "      <td>21978483.0</td>\n",
       "    </tr>\n",
       "    <tr>\n",
       "      <th>1666</th>\n",
       "      <td>2010-12-31 00:00:01</td>\n",
       "      <td>2011-12-31 06:00:00</td>\n",
       "      <td>2796.0</td>\n",
       "      <td>135000.0</td>\n",
       "    </tr>\n",
       "    <tr>\n",
       "      <th>1667</th>\n",
       "      <td>2010-12-31 00:00:01</td>\n",
       "      <td>2011-12-31 06:00:00</td>\n",
       "      <td>10435.0</td>\n",
       "      <td>49500.0</td>\n",
       "    </tr>\n",
       "  </tbody>\n",
       "</table>\n",
       "<p>1668 rows × 4 columns</p>\n",
       "</div>"
      ],
      "text/plain": [
       "         window_min_time     window_max_time     name   award_sum\n",
       "0    2010-12-31 00:00:01 2011-12-31 06:00:00  10150.0  14420242.0\n",
       "1    2010-12-31 00:00:01 2011-12-31 06:00:00   8661.0         1.0\n",
       "2    2010-12-31 00:00:01 2011-12-31 06:00:00  14997.0   7368981.0\n",
       "3    2010-12-31 00:00:01 2011-12-31 06:00:00  10610.0   2974212.0\n",
       "4    2010-12-31 00:00:01 2011-12-31 06:00:00   3593.0   1914913.0\n",
       "...                  ...                 ...      ...         ...\n",
       "1663 2010-12-31 00:00:01 2011-12-31 06:00:00   5872.0    144000.0\n",
       "1664 2010-12-31 00:00:01 2011-12-31 06:00:00   3867.0     44444.0\n",
       "1665 2010-12-31 00:00:01 2011-12-31 06:00:00  15533.0  21978483.0\n",
       "1666 2010-12-31 00:00:01 2011-12-31 06:00:00   2796.0    135000.0\n",
       "1667 2010-12-31 00:00:01 2011-12-31 06:00:00  10435.0     49500.0\n",
       "\n",
       "[1668 rows x 4 columns]"
      ]
     },
     "execution_count": 9,
     "metadata": {},
     "output_type": "execute_result"
    }
   ],
   "source": [
    "val_table.df"
   ]
  },
  {
   "cell_type": "code",
   "execution_count": 38,
   "id": "7dcee196-c546-432a-b85c-940bb6dd7fe2",
   "metadata": {},
   "outputs": [
    {
     "data": {
      "text/plain": [
       "Timestamp('2010-12-31 00:00:01')"
      ]
     },
     "execution_count": 38,
     "metadata": {},
     "output_type": "execute_result"
    }
   ],
   "source": [
    "val_table.df.window_min_time.min()"
   ]
  },
  {
   "cell_type": "code",
   "execution_count": 40,
   "id": "244c7011-6fe7-4594-95bc-a7e91da212c1",
   "metadata": {},
   "outputs": [
    {
     "data": {
      "text/plain": [
       "Timestamp('2011-12-31 06:00:00')"
      ]
     },
     "execution_count": 40,
     "metadata": {},
     "output_type": "execute_result"
    }
   ],
   "source": [
    "val_table.df.window_max_time.max()"
   ]
  },
  {
   "cell_type": "code",
   "execution_count": 10,
   "id": "7d1a67fe-1e71-4fdd-a42a-95cc49a9debf",
   "metadata": {},
   "outputs": [
    {
     "data": {
      "text/html": [
       "<div>\n",
       "<style scoped>\n",
       "    .dataframe tbody tr th:only-of-type {\n",
       "        vertical-align: middle;\n",
       "    }\n",
       "\n",
       "    .dataframe tbody tr th {\n",
       "        vertical-align: top;\n",
       "    }\n",
       "\n",
       "    .dataframe thead th {\n",
       "        text-align: right;\n",
       "    }\n",
       "</style>\n",
       "<table border=\"1\" class=\"dataframe\">\n",
       "  <thead>\n",
       "    <tr style=\"text-align: right;\">\n",
       "      <th></th>\n",
       "      <th>window_min_time</th>\n",
       "      <th>window_max_time</th>\n",
       "      <th>name</th>\n",
       "    </tr>\n",
       "  </thead>\n",
       "  <tbody>\n",
       "    <tr>\n",
       "      <th>0</th>\n",
       "      <td>2013-12-31 00:00:01</td>\n",
       "      <td>2014-12-31 06:00:00</td>\n",
       "      <td>9619.0</td>\n",
       "    </tr>\n",
       "    <tr>\n",
       "      <th>1</th>\n",
       "      <td>2013-12-31 00:00:01</td>\n",
       "      <td>2014-12-31 06:00:00</td>\n",
       "      <td>6682.0</td>\n",
       "    </tr>\n",
       "    <tr>\n",
       "      <th>2</th>\n",
       "      <td>2013-12-31 00:00:01</td>\n",
       "      <td>2014-12-31 06:00:00</td>\n",
       "      <td>9520.0</td>\n",
       "    </tr>\n",
       "    <tr>\n",
       "      <th>3</th>\n",
       "      <td>2013-12-31 00:00:01</td>\n",
       "      <td>2014-12-31 06:00:00</td>\n",
       "      <td>13813.0</td>\n",
       "    </tr>\n",
       "    <tr>\n",
       "      <th>4</th>\n",
       "      <td>2013-12-31 00:00:01</td>\n",
       "      <td>2014-12-31 06:00:00</td>\n",
       "      <td>15186.0</td>\n",
       "    </tr>\n",
       "    <tr>\n",
       "      <th>...</th>\n",
       "      <td>...</td>\n",
       "      <td>...</td>\n",
       "      <td>...</td>\n",
       "    </tr>\n",
       "    <tr>\n",
       "      <th>1597</th>\n",
       "      <td>2013-12-31 00:00:01</td>\n",
       "      <td>2014-12-31 06:00:00</td>\n",
       "      <td>3682.0</td>\n",
       "    </tr>\n",
       "    <tr>\n",
       "      <th>1598</th>\n",
       "      <td>2013-12-31 00:00:01</td>\n",
       "      <td>2014-12-31 06:00:00</td>\n",
       "      <td>4444.0</td>\n",
       "    </tr>\n",
       "    <tr>\n",
       "      <th>1599</th>\n",
       "      <td>2013-12-31 00:00:01</td>\n",
       "      <td>2014-12-31 06:00:00</td>\n",
       "      <td>10191.0</td>\n",
       "    </tr>\n",
       "    <tr>\n",
       "      <th>1600</th>\n",
       "      <td>2013-12-31 00:00:01</td>\n",
       "      <td>2014-12-31 06:00:00</td>\n",
       "      <td>7810.0</td>\n",
       "    </tr>\n",
       "    <tr>\n",
       "      <th>1601</th>\n",
       "      <td>2013-12-31 00:00:01</td>\n",
       "      <td>2014-12-31 06:00:00</td>\n",
       "      <td>3314.0</td>\n",
       "    </tr>\n",
       "  </tbody>\n",
       "</table>\n",
       "<p>1602 rows × 3 columns</p>\n",
       "</div>"
      ],
      "text/plain": [
       "         window_min_time     window_max_time     name\n",
       "0    2013-12-31 00:00:01 2014-12-31 06:00:00   9619.0\n",
       "1    2013-12-31 00:00:01 2014-12-31 06:00:00   6682.0\n",
       "2    2013-12-31 00:00:01 2014-12-31 06:00:00   9520.0\n",
       "3    2013-12-31 00:00:01 2014-12-31 06:00:00  13813.0\n",
       "4    2013-12-31 00:00:01 2014-12-31 06:00:00  15186.0\n",
       "...                  ...                 ...      ...\n",
       "1597 2013-12-31 00:00:01 2014-12-31 06:00:00   3682.0\n",
       "1598 2013-12-31 00:00:01 2014-12-31 06:00:00   4444.0\n",
       "1599 2013-12-31 00:00:01 2014-12-31 06:00:00  10191.0\n",
       "1600 2013-12-31 00:00:01 2014-12-31 06:00:00   7810.0\n",
       "1601 2013-12-31 00:00:01 2014-12-31 06:00:00   3314.0\n",
       "\n",
       "[1602 rows x 3 columns]"
      ]
     },
     "execution_count": 10,
     "metadata": {},
     "output_type": "execute_result"
    }
   ],
   "source": [
    "test_table.df"
   ]
  },
  {
   "cell_type": "code",
   "execution_count": 41,
   "id": "c0b47ef3-bba5-4024-88ff-899c0df8fef0",
   "metadata": {},
   "outputs": [
    {
     "data": {
      "text/plain": [
       "Timestamp('2013-12-31 00:00:01')"
      ]
     },
     "execution_count": 41,
     "metadata": {},
     "output_type": "execute_result"
    }
   ],
   "source": [
    "test_table.df.window_min_time.min()"
   ]
  },
  {
   "cell_type": "code",
   "execution_count": 42,
   "id": "2ed2a32f-3a43-4374-b915-873b45ca241e",
   "metadata": {},
   "outputs": [
    {
     "data": {
      "text/plain": [
       "Timestamp('2014-12-31 06:00:00')"
      ]
     },
     "execution_count": 42,
     "metadata": {},
     "output_type": "execute_result"
    }
   ],
   "source": [
    "test_table.df.window_max_time.max()"
   ]
  },
  {
   "cell_type": "code",
   "execution_count": 20,
   "id": "d6641480-4c07-426a-8789-7aac210c317f",
   "metadata": {},
   "outputs": [
    {
     "data": {
      "text/plain": [
       "<seaborn.axisgrid.FacetGrid at 0x7fe4096c7010>"
      ]
     },
     "execution_count": 20,
     "metadata": {},
     "output_type": "execute_result"
    },
    {
     "data": {
      "image/png": "[encoded data removed]",
      "text/plain": [
       "<Figure size 500x500 with 1 Axes>"
      ]
     },
     "metadata": {},
     "output_type": "display_data"
    }
   ],
   "source": [
    "import seaborn as sns\n",
    "sns.displot(val_table.df.award_sum.values)\n",
    "## very skewed "
   ]
  },
  {
   "cell_type": "code",
   "execution_count": 22,
   "id": "74c2a04c-94b0-4617-aefc-31479ea30bb9",
   "metadata": {},
   "outputs": [
    {
     "data": {
      "text/plain": [
       "<seaborn.axisgrid.FacetGrid at 0x7fe132e94f40>"
      ]
     },
     "execution_count": 22,
     "metadata": {},
     "output_type": "execute_result"
    },
    {
     "data": {
      "image/png": "[encoded data removed]",
      "text/plain": [
       "<Figure size 500x500 with 1 Axes>"
      ]
     },
     "metadata": {},
     "output_type": "display_data"
    }
   ],
   "source": [
    "import numpy as np\n",
    "sns.displot(np.log10(10 + val_table.df.award_sum.values))\n",
    "## log-scale"
   ]
  },
  {
   "cell_type": "code",
   "execution_count": 23,
   "id": "e83c632a-39f0-41fb-9a56-793deb41517b",
   "metadata": {},
   "outputs": [
    {
     "data": {
      "text/plain": [
       "Timedelta('1095 days 18:00:00')"
      ]
     },
     "execution_count": 23,
     "metadata": {},
     "output_type": "execute_result"
    }
   ],
   "source": [
    "task_name = \"investigator_three_years\"\n",
    "window_size = ds.tasks_window_size[task_name]\n",
    "window_size"
   ]
  },
  {
   "cell_type": "code",
   "execution_count": 24,
   "id": "fb6a44a9-b1c6-4bba-9db0-1cd7e48e4019",
   "metadata": {},
   "outputs": [],
   "source": [
    "train_table = ds.make_train_table(task_name, window_size)\n",
    "val_table = ds.make_val_table(task_name, window_size)\n",
    "test_table = ds.make_test_table(task_name, window_size)"
   ]
  },
  {
   "cell_type": "code",
   "execution_count": 25,
   "id": "9d773aaf-8621-4c37-b333-fe50d037122d",
   "metadata": {},
   "outputs": [
    {
     "data": {
      "text/html": [
       "<div>\n",
       "<style scoped>\n",
       "    .dataframe tbody tr th:only-of-type {\n",
       "        vertical-align: middle;\n",
       "    }\n",
       "\n",
       "    .dataframe tbody tr th {\n",
       "        vertical-align: top;\n",
       "    }\n",
       "\n",
       "    .dataframe thead th {\n",
       "        text-align: right;\n",
       "    }\n",
       "</style>\n",
       "<table border=\"1\" class=\"dataframe\">\n",
       "  <thead>\n",
       "    <tr style=\"text-align: right;\">\n",
       "      <th></th>\n",
       "      <th>window_min_time</th>\n",
       "      <th>window_max_time</th>\n",
       "      <th>email_id</th>\n",
       "      <th>award_sum</th>\n",
       "    </tr>\n",
       "  </thead>\n",
       "  <tbody>\n",
       "    <tr>\n",
       "      <th>0</th>\n",
       "      <td>2006-01-04 12:00:01</td>\n",
       "      <td>2009-01-04 06:00:01</td>\n",
       "      <td>47451.0</td>\n",
       "      <td>1291445.0</td>\n",
       "    </tr>\n",
       "    <tr>\n",
       "      <th>1</th>\n",
       "      <td>2006-01-04 12:00:01</td>\n",
       "      <td>2009-01-04 06:00:01</td>\n",
       "      <td>39728.0</td>\n",
       "      <td>396684.0</td>\n",
       "    </tr>\n",
       "    <tr>\n",
       "      <th>2</th>\n",
       "      <td>2006-01-04 12:00:01</td>\n",
       "      <td>2009-01-04 06:00:01</td>\n",
       "      <td>68316.0</td>\n",
       "      <td>1000000.0</td>\n",
       "    </tr>\n",
       "    <tr>\n",
       "      <th>3</th>\n",
       "      <td>2006-01-04 12:00:01</td>\n",
       "      <td>2009-01-04 06:00:01</td>\n",
       "      <td>104961.0</td>\n",
       "      <td>145678.0</td>\n",
       "    </tr>\n",
       "    <tr>\n",
       "      <th>4</th>\n",
       "      <td>2006-01-04 12:00:01</td>\n",
       "      <td>2009-01-04 06:00:01</td>\n",
       "      <td>120988.0</td>\n",
       "      <td>694863.0</td>\n",
       "    </tr>\n",
       "    <tr>\n",
       "      <th>...</th>\n",
       "      <td>...</td>\n",
       "      <td>...</td>\n",
       "      <td>...</td>\n",
       "      <td>...</td>\n",
       "    </tr>\n",
       "    <tr>\n",
       "      <th>247755</th>\n",
       "      <td>2006-01-04 12:00:01</td>\n",
       "      <td>2009-01-04 06:00:01</td>\n",
       "      <td>68076.0</td>\n",
       "      <td>717718.0</td>\n",
       "    </tr>\n",
       "    <tr>\n",
       "      <th>247756</th>\n",
       "      <td>2006-01-04 12:00:01</td>\n",
       "      <td>2009-01-04 06:00:01</td>\n",
       "      <td>60401.0</td>\n",
       "      <td>12000.0</td>\n",
       "    </tr>\n",
       "    <tr>\n",
       "      <th>247757</th>\n",
       "      <td>2006-01-04 12:00:01</td>\n",
       "      <td>2009-01-04 06:00:01</td>\n",
       "      <td>112832.0</td>\n",
       "      <td>488765.0</td>\n",
       "    </tr>\n",
       "    <tr>\n",
       "      <th>247758</th>\n",
       "      <td>2006-01-04 12:00:01</td>\n",
       "      <td>2009-01-04 06:00:01</td>\n",
       "      <td>134458.0</td>\n",
       "      <td>200000.0</td>\n",
       "    </tr>\n",
       "    <tr>\n",
       "      <th>247759</th>\n",
       "      <td>2006-01-04 12:00:01</td>\n",
       "      <td>2009-01-04 06:00:01</td>\n",
       "      <td>103183.0</td>\n",
       "      <td>102376.0</td>\n",
       "    </tr>\n",
       "  </tbody>\n",
       "</table>\n",
       "<p>247760 rows × 4 columns</p>\n",
       "</div>"
      ],
      "text/plain": [
       "           window_min_time     window_max_time  email_id  award_sum\n",
       "0      2006-01-04 12:00:01 2009-01-04 06:00:01   47451.0  1291445.0\n",
       "1      2006-01-04 12:00:01 2009-01-04 06:00:01   39728.0   396684.0\n",
       "2      2006-01-04 12:00:01 2009-01-04 06:00:01   68316.0  1000000.0\n",
       "3      2006-01-04 12:00:01 2009-01-04 06:00:01  104961.0   145678.0\n",
       "4      2006-01-04 12:00:01 2009-01-04 06:00:01  120988.0   694863.0\n",
       "...                    ...                 ...       ...        ...\n",
       "247755 2006-01-04 12:00:01 2009-01-04 06:00:01   68076.0   717718.0\n",
       "247756 2006-01-04 12:00:01 2009-01-04 06:00:01   60401.0    12000.0\n",
       "247757 2006-01-04 12:00:01 2009-01-04 06:00:01  112832.0   488765.0\n",
       "247758 2006-01-04 12:00:01 2009-01-04 06:00:01  134458.0   200000.0\n",
       "247759 2006-01-04 12:00:01 2009-01-04 06:00:01  103183.0   102376.0\n",
       "\n",
       "[247760 rows x 4 columns]"
      ]
     },
     "execution_count": 25,
     "metadata": {},
     "output_type": "execute_result"
    }
   ],
   "source": [
    "train_table.df"
   ]
  },
  {
   "cell_type": "code",
   "execution_count": 26,
   "id": "65b7931c-bcf0-4f9e-91ba-d71035c14e74",
   "metadata": {},
   "outputs": [
    {
     "data": {
      "text/plain": [
       "<seaborn.axisgrid.FacetGrid at 0x7fe40d68e590>"
      ]
     },
     "execution_count": 26,
     "metadata": {},
     "output_type": "execute_result"
    },
    {
     "data": {
      "image/png": "[encoded data removed]",
      "text/plain": [
       "<Figure size 500x500 with 1 Axes>"
      ]
     },
     "metadata": {},
     "output_type": "display_data"
    }
   ],
   "source": [
    "import numpy as np\n",
    "sns.displot(np.log10(10 + val_table.df.award_sum.values))\n",
    "## log-scale"
   ]
  },
  {
   "cell_type": "code",
   "execution_count": null,
   "id": "531b3451-2eb1-4a72-b1d0-f4b870df1657",
   "metadata": {},
   "outputs": [],
   "source": []
  },
  {
   "cell_type": "code",
   "execution_count": null,
   "id": "1b22dfc1-17e5-4d95-a3c9-eb42a231bb60",
   "metadata": {},
   "outputs": [],
   "source": []
  },
  {
   "cell_type": "code",
   "execution_count": null,
   "id": "600acdf4-b10b-41e9-bf7a-29f4ca7a5281",
   "metadata": {},
   "outputs": [],
   "source": []
  }
 ],
 "metadata": {
  "kernelspec": {
   "display_name": "Python 3 (ipykernel)",
   "language": "python",
   "name": "python3"
  },
  "language_info": {
   "codemirror_mode": {
    "name": "ipython",
    "version": 3
   },
   "file_extension": ".py",
   "mimetype": "text/x-python",
   "name": "python",
   "nbconvert_exporter": "python",
   "pygments_lexer": "ipython3",
   "version": "3.10.13"
  }
 },
 "nbformat": 4,
 "nbformat_minor": 5
}
