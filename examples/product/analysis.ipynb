{
    "cells": [
        {
            "cell_type": "code",
            "execution_count": 1,
            "id": "7108eec3-1b8e-4d1b-9cd8-c6e90fbb7c8b",
            "metadata": {
                "execution": {
                    "iopub.execute_input": "2023-11-11T19:46:52.411378Z",
                    "iopub.status.busy": "2023-11-11T19:46:52.411058Z",
                    "iopub.status.idle": "2023-11-11T19:46:52.434879Z",
                    "shell.execute_reply": "2023-11-11T19:46:52.434363Z",
                    "shell.execute_reply.started": "2023-11-11T19:46:52.411340Z"
                }
            },
            "outputs": [],
            "source": [
                "%load_ext autoreload\n",
                "%autoreload 2"
            ]
        },
        {
            "cell_type": "code",
            "execution_count": 2,
            "id": "26f33b7d-c224-4553-97d5-e27c79144ee5",
            "metadata": {
                "execution": {
                    "iopub.execute_input": "2023-11-11T19:46:52.683887Z",
                    "iopub.status.busy": "2023-11-11T19:46:52.683104Z",
                    "iopub.status.idle": "2023-11-11T19:46:55.046168Z",
                    "shell.execute_reply": "2023-11-11T19:46:55.044967Z",
                    "shell.execute_reply.started": "2023-11-11T19:46:52.683845Z"
                }
            },
            "outputs": [],
            "source": [
                "from rtb.datasets import get_dataset"
            ]
        },
        {
            "cell_type": "code",
            "execution_count": 3,
            "id": "83b7a9b7-e3ce-4e59-87c7-69bfd45aa0aa",
            "metadata": {
                "execution": {
                    "iopub.execute_input": "2023-11-11T19:46:55.047831Z",
                    "iopub.status.busy": "2023-11-11T19:46:55.047472Z",
                    "iopub.status.idle": "2023-11-11T19:46:59.483288Z",
                    "shell.execute_reply": "2023-11-11T19:46:59.482662Z",
                    "shell.execute_reply.started": "2023-11-11T19:46:55.047808Z"
                }
            },
            "outputs": [
                {
                    "name": "stdout",
                    "output_type": "stream",
                    "text": [
                        "reading product info from ../../data//rtb-product/raw/meta_AMAZON_FASHION.json...\n",
                        "done in 0.16 seconds.\n",
                        "converting to pandas dataframe...\n",
                        "done in 0.12 seconds.\n",
                        "processing product info...\n",
                        "done in 0.04 seconds.\n",
                        "reading review and customer info from ../../data//rtb-product/raw/AMAZON_FASHION.json...\n",
                        "done in 0.12 seconds.\n",
                        "converting to pandas dataframe...\n",
                        "done in 0.85 seconds.\n",
                        "processing review and customer info...\n",
                        "done in 0.25 seconds.\n",
                        "removing products not in review table (#products=17799)...\n",
                        "done in 0.08 seconds (#products=17787).\n",
                        "saving table product...\n",
                        "done in 0.09 seconds.\n",
                        "saving table customer...\n",
                        "done in 0.08 seconds.\n",
                        "saving table review...\n",
                        "done in 1.21 seconds.\n",
                        "loading table ../../data/rtb-product/processed/db/customer.parquet...\n",
                        "done in 0.09 seconds.\n",
                        "loading table ../../data/rtb-product/processed/db/product.parquet...\n",
                        "done in 0.06 seconds.\n",
                        "loading table ../../data/rtb-product/processed/db/review.parquet...\n",
                        "done in 1.14 seconds.\n"
                    ]
                }
            ],
            "source": [
                "ds = get_dataset(name=\"rtb-product\", root=\"../../data/\", process=True)"
            ]
        },
        {
            "cell_type": "code",
            "execution_count": 4,
            "id": "feea1063-8147-4642-84dd-898309ccea32",
            "metadata": {
                "execution": {
                    "iopub.execute_input": "2023-11-11T19:46:59.484149Z",
                    "iopub.status.busy": "2023-11-11T19:46:59.483994Z",
                    "iopub.status.idle": "2023-11-11T19:46:59.509314Z",
                    "shell.execute_reply": "2023-11-11T19:46:59.508749Z",
                    "shell.execute_reply.started": "2023-11-11T19:46:59.484132Z"
                }
            },
            "outputs": [],
            "source": [
                "db = ds._db"
            ]
        },
        {
            "cell_type": "code",
            "execution_count": 5,
            "id": "92ba2ce4-1830-46fd-9d19-c2226e7f3d28",
            "metadata": {
                "execution": {
                    "iopub.execute_input": "2023-11-11T19:47:09.232898Z",
                    "iopub.status.busy": "2023-11-11T19:47:09.232415Z",
                    "iopub.status.idle": "2023-11-11T19:47:09.262717Z",
                    "shell.execute_reply": "2023-11-11T19:47:09.261816Z",
                    "shell.execute_reply.started": "2023-11-11T19:47:09.232858Z"
                }
            },
            "outputs": [],
            "source": [
                "window_size = ds.tasks[\"ltv\"].test_time_window_sizes[0]"
            ]
        },
        {
            "cell_type": "code",
            "execution_count": 7,
            "id": "4f00ef75-0ef8-4694-a19b-ec08bdc576e0",
            "metadata": {
                "execution": {
                    "iopub.execute_input": "2023-11-11T19:47:49.402363Z",
                    "iopub.status.busy": "2023-11-11T19:47:49.401902Z",
                    "iopub.status.idle": "2023-11-11T19:47:49.663443Z",
                    "shell.execute_reply": "2023-11-11T19:47:49.662517Z",
                    "shell.execute_reply.started": "2023-11-11T19:47:49.402324Z"
                }
            },
            "outputs": [],
            "source": [
                "train_table = ds.make_train_table(\"ltv\", window_size)"
            ]
        },
        {
            "cell_type": "code",
            "execution_count": 8,
            "id": "53a8b4a3-a13e-49e6-8ce2-a276c9dd8150",
            "metadata": {
                "execution": {
                    "iopub.execute_input": "2023-11-11T19:48:08.941209Z",
                    "iopub.status.busy": "2023-11-11T19:48:08.940765Z",
                    "iopub.status.idle": "2023-11-11T19:48:08.973853Z",
                    "shell.execute_reply": "2023-11-11T19:48:08.973014Z",
                    "shell.execute_reply.started": "2023-11-11T19:48:08.941169Z"
                }
            },
            "outputs": [
                {
                    "data": {
                        "text/plain": [
                            "Table(df=\n",
                            "      time_offset time_cutoff     customer_id     ltv\n",
                            "0      2015-03-02  2015-03-09  A1ZLIEMQ643GYM   15.95\n",
                            "1      2015-03-02  2015-03-09  A24QD54DM51EWS    9.99\n",
                            "2      2015-03-02  2015-03-09  A1LICH82ETGC52   14.99\n",
                            "3      2015-03-02  2015-03-09   AO3P33E7R6E7R    7.99\n",
                            "4      2015-03-02  2015-03-09   AZLH7G81ZB2OM  109.00\n",
                            "...           ...         ...             ...     ...\n",
                            "64546  2015-02-23  2015-03-02  A1LSOMWF2RAK36   11.99\n",
                            "64547  2014-12-22  2014-12-29  A3UDFCUB1HY7SN   10.88\n",
                            "64548  2015-03-02  2015-03-09  A1AUO1T5YMVCVO   10.88\n",
                            "64549  2015-02-23  2015-03-02  A3VRYC7N5I6QDU   25.52\n",
                            "64550  2014-12-22  2014-12-29  A1JLOSM671OFYO   18.26\n",
                            "\n",
                            "[64551 rows x 4 columns],\n",
                            "fkey_col_to_pkey_table={'customer_id': 'customer'},\n",
                            "pkey=None,\n",
                            "time_col=time_offset)"
                        ]
                    },
                    "execution_count": 8,
                    "metadata": {},
                    "output_type": "execute_result"
                }
            ],
            "source": [
                "train_table"
            ]
        },
        {
            "cell_type": "code",
            "execution_count": 10,
            "id": "0c7cb405-a0f4-4c96-b2a6-4f66f4a5edec",
            "metadata": {
                "execution": {
                    "iopub.execute_input": "2023-11-11T19:49:37.182981Z",
                    "iopub.status.busy": "2023-11-11T19:49:37.182621Z",
                    "iopub.status.idle": "2023-11-11T19:49:37.440173Z",
                    "shell.execute_reply": "2023-11-11T19:49:37.439290Z",
                    "shell.execute_reply.started": "2023-11-11T19:49:37.182961Z"
                }
            },
            "outputs": [],
            "source": [
                "val_table = ds.make_val_table(\"ltv\", window_size)"
            ]
        },
        {
            "cell_type": "code",
            "execution_count": 11,
            "id": "ea3a6798-7876-4024-8b36-6537d5069028",
            "metadata": {
                "execution": {
                    "iopub.execute_input": "2023-11-11T19:49:40.467590Z",
                    "iopub.status.busy": "2023-11-11T19:49:40.466890Z",
                    "iopub.status.idle": "2023-11-11T19:49:40.491503Z",
                    "shell.execute_reply": "2023-11-11T19:49:40.491017Z",
                    "shell.execute_reply.started": "2023-11-11T19:49:40.467570Z"
                }
            },
            "outputs": [
                {
                    "data": {
                        "text/plain": [
                            "Table(df=\n",
                            "            time_offset         time_cutoff     customer_id    ltv\n",
                            "0   2015-07-28 09:36:00 2015-08-04 09:36:00   AO6N8TXRMNS3M  22.24\n",
                            "1   2015-07-28 09:36:00 2015-08-04 09:36:00  A34DYK87DE7HPO   5.00\n",
                            "2   2015-07-28 09:36:00 2015-08-04 09:36:00  A377OHO2E1V54Q   9.10\n",
                            "3   2015-07-28 09:36:00 2015-08-04 09:36:00  A2NDFHZDAOMOHH  49.08\n",
                            "4   2015-07-28 09:36:00 2015-08-04 09:36:00   AGEUB04LL30GR  49.08\n",
                            "..                  ...                 ...             ...    ...\n",
                            "973 2015-07-28 09:36:00 2015-08-04 09:36:00  A30IG4DX7ROX02  14.29\n",
                            "974 2015-07-28 09:36:00 2015-08-04 09:36:00  A2R98BJILDLQCS   7.98\n",
                            "975 2015-07-28 09:36:00 2015-08-04 09:36:00  A2VZHBZXSPEWXQ  12.99\n",
                            "976 2015-07-28 09:36:00 2015-08-04 09:36:00   AVASL0MXO6W26   3.18\n",
                            "977 2015-07-28 09:36:00 2015-08-04 09:36:00  A1DG84SZL4S2QH   3.32\n",
                            "\n",
                            "[978 rows x 4 columns],\n",
                            "fkey_col_to_pkey_table={'customer_id': 'customer'},\n",
                            "pkey=None,\n",
                            "time_col=time_offset)"
                        ]
                    },
                    "execution_count": 11,
                    "metadata": {},
                    "output_type": "execute_result"
                }
            ],
            "source": [
                "val_table"
            ]
        },
        {
            "cell_type": "code",
            "execution_count": 12,
            "id": "22fc1782-f99c-48d3-8cc8-548e533d0048",
            "metadata": {
                "execution": {
                    "iopub.execute_input": "2023-11-11T19:50:19.608858Z",
                    "iopub.status.busy": "2023-11-11T19:50:19.608420Z",
                    "iopub.status.idle": "2023-11-11T19:50:19.672364Z",
                    "shell.execute_reply": "2023-11-11T19:50:19.671453Z",
                    "shell.execute_reply.started": "2023-11-11T19:50:19.608819Z"
                }
            },
            "outputs": [],
            "source": [
                "test_table = ds.make_test_table(\"ltv\", window_size)"
            ]
        },
        {
            "cell_type": "code",
            "execution_count": 13,
            "id": "e0e0685e-d91a-422f-a240-c0140b672e01",
            "metadata": {
                "execution": {
                    "iopub.execute_input": "2023-11-11T19:50:22.706159Z",
                    "iopub.status.busy": "2023-11-11T19:50:22.705730Z",
                    "iopub.status.idle": "2023-11-11T19:50:22.734956Z",
                    "shell.execute_reply": "2023-11-11T19:50:22.734357Z",
                    "shell.execute_reply.started": "2023-11-11T19:50:22.706122Z"
                }
            },
            "outputs": [
                {
                    "data": {
                        "text/plain": [
                            "Table(df=\n",
                            "             time_offset         time_cutoff     customer_id\n",
                            "0    2017-02-27 16:48:00 2017-03-06 16:48:00  A1X7PFTRMWGVZQ\n",
                            "1    2017-02-27 16:48:00 2017-03-06 16:48:00  A3TSB35ZVOP8XZ\n",
                            "2    2017-02-27 16:48:00 2017-03-06 16:48:00  A2SIHSUXIQ3VPY\n",
                            "3    2017-02-27 16:48:00 2017-03-06 16:48:00  A3SKCHOX0EVT6H\n",
                            "4    2017-02-27 16:48:00 2017-03-06 16:48:00  A1XIQ21702P4MP\n",
                            "...                  ...                 ...             ...\n",
                            "1617 2017-02-27 16:48:00 2017-03-06 16:48:00  A2FVQX7V54GIP7\n",
                            "1618 2017-02-27 16:48:00 2017-03-06 16:48:00  A3JXL8RMV5VZH9\n",
                            "1619 2017-02-27 16:48:00 2017-03-06 16:48:00   AR1MHNCJQ1L3C\n",
                            "1620 2017-02-27 16:48:00 2017-03-06 16:48:00  A11PB159OHAIGR\n",
                            "1621 2017-02-27 16:48:00 2017-03-06 16:48:00  A2QXSRXCFYFUWC\n",
                            "\n",
                            "[1622 rows x 3 columns],\n",
                            "fkey_col_to_pkey_table={'customer_id': 'customer'},\n",
                            "pkey=None,\n",
                            "time_col=time_offset)"
                        ]
                    },
                    "execution_count": 13,
                    "metadata": {},
                    "output_type": "execute_result"
                }
            ],
            "source": [
                "test_table"
            ]
        },
        {
            "cell_type": "code",
            "execution_count": null,
            "id": "ca536342-6855-47b0-9db3-51bbac88ba00",
            "metadata": {},
            "outputs": [],
            "source": []
        }
    ],
    "metadata": {
        "kernelspec": {
            "display_name": "Python [conda env:rtb]",
            "language": "python",
            "name": "conda-env-rtb-py"
        },
        "language_info": {
            "codemirror_mode": {
                "name": "ipython",
                "version": 3
            },
            "file_extension": ".py",
            "mimetype": "text/x-python",
            "name": "python",
            "nbconvert_exporter": "python",
            "pygments_lexer": "ipython3",
            "version": "3.10.13"
        }
    },
    "nbformat": 4,
    "nbformat_minor": 5
}